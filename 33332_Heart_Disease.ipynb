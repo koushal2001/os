{
  "cells": [
    {
      "cell_type": "markdown",
      "source": [
        "Name : Koushal Bhat\n",
        "Batch : M11"
      ],
      "metadata": {
        "id": "1y86w3R63Q7k"
      }
    },
    {
      "cell_type": "code",
      "execution_count": null,
      "metadata": {
        "id": "wT79Kkc13N2z"
      },
      "outputs": [],
      "source": [
        "import pandas as pd\n",
        "import numpy as np"
      ]
    },
    {
      "cell_type": "code",
      "execution_count": null,
      "metadata": {
        "id": "cXSn4h_93N23"
      },
      "outputs": [],
      "source": [
        "df_cleveland = pd.read_csv('processed.cleveland.csv')\n",
        "df_switzerland = pd.read_csv('processed.switzerland.csv')\n",
        "df_hungary = pd.read_csv('processed.hungarian.csv')"
      ]
    },
    {
      "cell_type": "code",
      "execution_count": null,
      "metadata": {
        "id": "D4NkKffQ3N23",
        "outputId": "c1bb9b34-b9fc-432f-8d4e-654dcfb432e6"
      },
      "outputs": [
        {
          "data": {
            "text/plain": [
              "63.0     float64\n",
              "1.0      float64\n",
              "1.0.1    float64\n",
              "145.0    float64\n",
              "233.0    float64\n",
              "1.0.2    float64\n",
              "2.0      float64\n",
              "150.0    float64\n",
              "0.0      float64\n",
              "2.3      float64\n",
              "3.0      float64\n",
              "0.0.1     object\n",
              "6.0       object\n",
              "0          int64\n",
              "dtype: object"
            ]
          },
          "execution_count": 3,
          "metadata": {},
          "output_type": "execute_result"
        }
      ],
      "source": [
        "df_cleveland.dtypes"
      ]
    },
    {
      "cell_type": "code",
      "execution_count": null,
      "metadata": {
        "id": "hbePm6Iy3N24",
        "outputId": "411dc639-261f-4036-c8bf-574033d46487"
      },
      "outputs": [
        {
          "data": {
            "text/html": [
              "<div>\n",
              "<style scoped>\n",
              "    .dataframe tbody tr th:only-of-type {\n",
              "        vertical-align: middle;\n",
              "    }\n",
              "\n",
              "    .dataframe tbody tr th {\n",
              "        vertical-align: top;\n",
              "    }\n",
              "\n",
              "    .dataframe thead th {\n",
              "        text-align: right;\n",
              "    }\n",
              "</style>\n",
              "<table border=\"1\" class=\"dataframe\">\n",
              "  <thead>\n",
              "    <tr style=\"text-align: right;\">\n",
              "      <th></th>\n",
              "      <th>32</th>\n",
              "      <th>1</th>\n",
              "      <th>1.1</th>\n",
              "      <th>95</th>\n",
              "      <th>0</th>\n",
              "      <th>?</th>\n",
              "      <th>0.1</th>\n",
              "      <th>127</th>\n",
              "      <th>0.2</th>\n",
              "      <th>.7</th>\n",
              "      <th>1.2</th>\n",
              "      <th>?.1</th>\n",
              "      <th>?.2</th>\n",
              "      <th>1.3</th>\n",
              "    </tr>\n",
              "  </thead>\n",
              "  <tbody>\n",
              "    <tr>\n",
              "      <th>0</th>\n",
              "      <td>34</td>\n",
              "      <td>1</td>\n",
              "      <td>4</td>\n",
              "      <td>115</td>\n",
              "      <td>0</td>\n",
              "      <td>?</td>\n",
              "      <td>?</td>\n",
              "      <td>154</td>\n",
              "      <td>0</td>\n",
              "      <td>.2</td>\n",
              "      <td>1</td>\n",
              "      <td>?</td>\n",
              "      <td>?</td>\n",
              "      <td>1</td>\n",
              "    </tr>\n",
              "    <tr>\n",
              "      <th>1</th>\n",
              "      <td>35</td>\n",
              "      <td>1</td>\n",
              "      <td>4</td>\n",
              "      <td>?</td>\n",
              "      <td>0</td>\n",
              "      <td>?</td>\n",
              "      <td>0</td>\n",
              "      <td>130</td>\n",
              "      <td>1</td>\n",
              "      <td>?</td>\n",
              "      <td>?</td>\n",
              "      <td>?</td>\n",
              "      <td>7</td>\n",
              "      <td>3</td>\n",
              "    </tr>\n",
              "    <tr>\n",
              "      <th>2</th>\n",
              "      <td>36</td>\n",
              "      <td>1</td>\n",
              "      <td>4</td>\n",
              "      <td>110</td>\n",
              "      <td>0</td>\n",
              "      <td>?</td>\n",
              "      <td>0</td>\n",
              "      <td>125</td>\n",
              "      <td>1</td>\n",
              "      <td>1</td>\n",
              "      <td>2</td>\n",
              "      <td>?</td>\n",
              "      <td>6</td>\n",
              "      <td>1</td>\n",
              "    </tr>\n",
              "    <tr>\n",
              "      <th>3</th>\n",
              "      <td>38</td>\n",
              "      <td>0</td>\n",
              "      <td>4</td>\n",
              "      <td>105</td>\n",
              "      <td>0</td>\n",
              "      <td>?</td>\n",
              "      <td>0</td>\n",
              "      <td>166</td>\n",
              "      <td>0</td>\n",
              "      <td>2.8</td>\n",
              "      <td>1</td>\n",
              "      <td>?</td>\n",
              "      <td>?</td>\n",
              "      <td>2</td>\n",
              "    </tr>\n",
              "    <tr>\n",
              "      <th>4</th>\n",
              "      <td>38</td>\n",
              "      <td>0</td>\n",
              "      <td>4</td>\n",
              "      <td>110</td>\n",
              "      <td>0</td>\n",
              "      <td>0</td>\n",
              "      <td>0</td>\n",
              "      <td>156</td>\n",
              "      <td>0</td>\n",
              "      <td>0</td>\n",
              "      <td>2</td>\n",
              "      <td>?</td>\n",
              "      <td>3</td>\n",
              "      <td>1</td>\n",
              "    </tr>\n",
              "  </tbody>\n",
              "</table>\n",
              "</div>"
            ],
            "text/plain": [
              "   32  1  1.1   95  0  ? 0.1  127 0.2   .7 1.2 ?.1 ?.2  1.3\n",
              "0  34  1    4  115  0  ?   ?  154   0   .2   1   ?   ?    1\n",
              "1  35  1    4    ?  0  ?   0  130   1    ?   ?   ?   7    3\n",
              "2  36  1    4  110  0  ?   0  125   1    1   2   ?   6    1\n",
              "3  38  0    4  105  0  ?   0  166   0  2.8   1   ?   ?    2\n",
              "4  38  0    4  110  0  0   0  156   0    0   2   ?   3    1"
            ]
          },
          "execution_count": 4,
          "metadata": {},
          "output_type": "execute_result"
        }
      ],
      "source": [
        "df_switzerland.head()"
      ]
    },
    {
      "cell_type": "code",
      "execution_count": null,
      "metadata": {
        "id": "TNmwLtNK3N25"
      },
      "outputs": [],
      "source": [
        "df_cleveland.replace('?', np.NaN, inplace=True)\n",
        "df_switzerland.replace('?', np.NaN, inplace=True)\n",
        "df_hungary.replace('?', np.NaN, inplace=True)"
      ]
    },
    {
      "cell_type": "code",
      "execution_count": null,
      "metadata": {
        "id": "anmiItFP3N25"
      },
      "outputs": [],
      "source": [
        "obj_cols_cleve = df_cleveland.select_dtypes('object').columns\n",
        "df_cleveland[obj_cols_cleve] = df_cleveland[obj_cols_cleve].astype('float')\n",
        "\n",
        "obj_cols_swiss = df_switzerland.select_dtypes('object').columns\n",
        "df_switzerland[obj_cols_swiss] = df_switzerland[obj_cols_swiss].astype('float')\n",
        "\n",
        "obj_cols_hung = df_hungary.select_dtypes('object').columns\n",
        "df_hungary[obj_cols_hung] = df_hungary[obj_cols_hung].astype('float')"
      ]
    },
    {
      "cell_type": "code",
      "execution_count": null,
      "metadata": {
        "id": "k8fRe5ew3N26",
        "outputId": "b43305ee-f54f-444a-fd2a-6fae26f2d993"
      },
      "outputs": [
        {
          "name": "stdout",
          "output_type": "stream",
          "text": [
            "cleveland shape:  (302, 14)\n",
            "switzerland shape:  (122, 14)\n",
            "hungary shape:  (293, 14)\n"
          ]
        }
      ],
      "source": [
        "print(\"cleveland shape: \", df_cleveland.shape)\n",
        "print(\"switzerland shape: \", df_switzerland.shape)\n",
        "print(\"hungary shape: \", df_hungary.shape)"
      ]
    },
    {
      "cell_type": "code",
      "execution_count": null,
      "metadata": {
        "id": "Ymhm6Ge33N27"
      },
      "outputs": [],
      "source": [
        "df_cleveland.columns = [\n",
        "    \"age\",\n",
        "    \"sex\",\n",
        "    \"chest_pain\",\n",
        "    \"trestbps\",\n",
        "    \"cholestrol\",\n",
        "    \"fbs\",\n",
        "    \"restecg\",\n",
        "    \"thalach\",\n",
        "    \"exang\",\n",
        "    \"oldpeak\",\n",
        "    \"slope\",\n",
        "    \"ca\",\n",
        "    \"thal\",\n",
        "    \"num\"\n",
        "]\n",
        "\n",
        "df_switzerland.columns = [\n",
        "    \"age\",\n",
        "    \"sex\",\n",
        "    \"chest_pain\",\n",
        "    \"trestbps\",\n",
        "    \"cholestrol\",\n",
        "    \"fbs\",\n",
        "    \"restecg\",\n",
        "    \"thalach\",\n",
        "    \"exang\",\n",
        "    \"oldpeak\",\n",
        "    \"slope\",\n",
        "    \"ca\",\n",
        "    \"thal\",\n",
        "    \"num\"\n",
        "]\n",
        "\n",
        "df_hungary.columns = [\n",
        "    \"age\",\n",
        "    \"sex\",\n",
        "    \"chest_pain\",\n",
        "    \"trestbps\",\n",
        "    \"cholestrol\",\n",
        "    \"fbs\",\n",
        "    \"restecg\",\n",
        "    \"thalach\",\n",
        "    \"exang\",\n",
        "    \"oldpeak\",\n",
        "    \"slope\",\n",
        "    \"ca\",\n",
        "    \"thal\",\n",
        "    \"num\"\n",
        "]"
      ]
    },
    {
      "cell_type": "code",
      "execution_count": null,
      "metadata": {
        "id": "w6Ho9oFG3N28"
      },
      "outputs": [],
      "source": [
        "df = pd.concat(\n",
        "    objs = [df_cleveland, df_switzerland, df_hungary],\n",
        "    axis=0\n",
        ")"
      ]
    },
    {
      "cell_type": "code",
      "execution_count": null,
      "metadata": {
        "id": "rYTx0-NV3N28",
        "outputId": "86870bba-4317-442b-8b7a-c3b6c982404f"
      },
      "outputs": [
        {
          "data": {
            "text/plain": [
              "(717, 14)"
            ]
          },
          "execution_count": 10,
          "metadata": {},
          "output_type": "execute_result"
        }
      ],
      "source": [
        "df.shape"
      ]
    },
    {
      "cell_type": "code",
      "execution_count": null,
      "metadata": {
        "id": "V0NhDwVA3N29",
        "outputId": "431bd5c4-1bf2-49a8-e420-c1acd1e9c494"
      },
      "outputs": [
        {
          "data": {
            "text/html": [
              "<div>\n",
              "<style scoped>\n",
              "    .dataframe tbody tr th:only-of-type {\n",
              "        vertical-align: middle;\n",
              "    }\n",
              "\n",
              "    .dataframe tbody tr th {\n",
              "        vertical-align: top;\n",
              "    }\n",
              "\n",
              "    .dataframe thead th {\n",
              "        text-align: right;\n",
              "    }\n",
              "</style>\n",
              "<table border=\"1\" class=\"dataframe\">\n",
              "  <thead>\n",
              "    <tr style=\"text-align: right;\">\n",
              "      <th></th>\n",
              "      <th>age</th>\n",
              "      <th>sex</th>\n",
              "      <th>chest_pain</th>\n",
              "      <th>trestbps</th>\n",
              "      <th>cholestrol</th>\n",
              "      <th>fbs</th>\n",
              "      <th>restecg</th>\n",
              "      <th>thalach</th>\n",
              "      <th>exang</th>\n",
              "      <th>oldpeak</th>\n",
              "      <th>slope</th>\n",
              "      <th>ca</th>\n",
              "      <th>thal</th>\n",
              "      <th>num</th>\n",
              "    </tr>\n",
              "  </thead>\n",
              "  <tbody>\n",
              "    <tr>\n",
              "      <th>0</th>\n",
              "      <td>67.0</td>\n",
              "      <td>1.0</td>\n",
              "      <td>4.0</td>\n",
              "      <td>160.0</td>\n",
              "      <td>286.0</td>\n",
              "      <td>0.0</td>\n",
              "      <td>2.0</td>\n",
              "      <td>108.0</td>\n",
              "      <td>1.0</td>\n",
              "      <td>1.5</td>\n",
              "      <td>2.0</td>\n",
              "      <td>3.0</td>\n",
              "      <td>3.0</td>\n",
              "      <td>2</td>\n",
              "    </tr>\n",
              "    <tr>\n",
              "      <th>1</th>\n",
              "      <td>67.0</td>\n",
              "      <td>1.0</td>\n",
              "      <td>4.0</td>\n",
              "      <td>120.0</td>\n",
              "      <td>229.0</td>\n",
              "      <td>0.0</td>\n",
              "      <td>2.0</td>\n",
              "      <td>129.0</td>\n",
              "      <td>1.0</td>\n",
              "      <td>2.6</td>\n",
              "      <td>2.0</td>\n",
              "      <td>2.0</td>\n",
              "      <td>7.0</td>\n",
              "      <td>1</td>\n",
              "    </tr>\n",
              "    <tr>\n",
              "      <th>2</th>\n",
              "      <td>37.0</td>\n",
              "      <td>1.0</td>\n",
              "      <td>3.0</td>\n",
              "      <td>130.0</td>\n",
              "      <td>250.0</td>\n",
              "      <td>0.0</td>\n",
              "      <td>0.0</td>\n",
              "      <td>187.0</td>\n",
              "      <td>0.0</td>\n",
              "      <td>3.5</td>\n",
              "      <td>3.0</td>\n",
              "      <td>0.0</td>\n",
              "      <td>3.0</td>\n",
              "      <td>0</td>\n",
              "    </tr>\n",
              "    <tr>\n",
              "      <th>3</th>\n",
              "      <td>41.0</td>\n",
              "      <td>0.0</td>\n",
              "      <td>2.0</td>\n",
              "      <td>130.0</td>\n",
              "      <td>204.0</td>\n",
              "      <td>0.0</td>\n",
              "      <td>2.0</td>\n",
              "      <td>172.0</td>\n",
              "      <td>0.0</td>\n",
              "      <td>1.4</td>\n",
              "      <td>1.0</td>\n",
              "      <td>0.0</td>\n",
              "      <td>3.0</td>\n",
              "      <td>0</td>\n",
              "    </tr>\n",
              "    <tr>\n",
              "      <th>4</th>\n",
              "      <td>56.0</td>\n",
              "      <td>1.0</td>\n",
              "      <td>2.0</td>\n",
              "      <td>120.0</td>\n",
              "      <td>236.0</td>\n",
              "      <td>0.0</td>\n",
              "      <td>0.0</td>\n",
              "      <td>178.0</td>\n",
              "      <td>0.0</td>\n",
              "      <td>0.8</td>\n",
              "      <td>1.0</td>\n",
              "      <td>0.0</td>\n",
              "      <td>3.0</td>\n",
              "      <td>0</td>\n",
              "    </tr>\n",
              "  </tbody>\n",
              "</table>\n",
              "</div>"
            ],
            "text/plain": [
              "    age  sex  chest_pain  trestbps  cholestrol  fbs  restecg  thalach  exang  \\\n",
              "0  67.0  1.0         4.0     160.0       286.0  0.0      2.0    108.0    1.0   \n",
              "1  67.0  1.0         4.0     120.0       229.0  0.0      2.0    129.0    1.0   \n",
              "2  37.0  1.0         3.0     130.0       250.0  0.0      0.0    187.0    0.0   \n",
              "3  41.0  0.0         2.0     130.0       204.0  0.0      2.0    172.0    0.0   \n",
              "4  56.0  1.0         2.0     120.0       236.0  0.0      0.0    178.0    0.0   \n",
              "\n",
              "   oldpeak  slope   ca  thal  num  \n",
              "0      1.5    2.0  3.0   3.0    2  \n",
              "1      2.6    2.0  2.0   7.0    1  \n",
              "2      3.5    3.0  0.0   3.0    0  \n",
              "3      1.4    1.0  0.0   3.0    0  \n",
              "4      0.8    1.0  0.0   3.0    0  "
            ]
          },
          "execution_count": 11,
          "metadata": {},
          "output_type": "execute_result"
        }
      ],
      "source": [
        "df.head()"
      ]
    },
    {
      "cell_type": "code",
      "execution_count": null,
      "metadata": {
        "id": "mruNf20x3N29",
        "outputId": "c42e3a33-dba0-4e48-fecc-9ee435d9a3ff"
      },
      "outputs": [
        {
          "data": {
            "text/plain": [
              "age           float64\n",
              "sex           float64\n",
              "chest_pain    float64\n",
              "trestbps      float64\n",
              "cholestrol    float64\n",
              "fbs           float64\n",
              "restecg       float64\n",
              "thalach       float64\n",
              "exang         float64\n",
              "oldpeak       float64\n",
              "slope         float64\n",
              "ca            float64\n",
              "thal          float64\n",
              "num             int64\n",
              "dtype: object"
            ]
          },
          "execution_count": 12,
          "metadata": {},
          "output_type": "execute_result"
        }
      ],
      "source": [
        "df.dtypes"
      ]
    },
    {
      "cell_type": "code",
      "execution_count": null,
      "metadata": {
        "id": "FHqscHYm3N29",
        "outputId": "d65d882d-edc1-4831-8e47-a2613bf5b344"
      },
      "outputs": [
        {
          "data": {
            "text/plain": [
              "array([2, 1, 0, 3, 4], dtype=int64)"
            ]
          },
          "execution_count": 13,
          "metadata": {},
          "output_type": "execute_result"
        }
      ],
      "source": [
        "# analysing the target variable\n",
        "target = df['num']\n",
        "target.unique()"
      ]
    },
    {
      "cell_type": "code",
      "execution_count": null,
      "metadata": {
        "id": "ENsL3jhW3N2-"
      },
      "outputs": [],
      "source": [
        "# Binarizing the target\n",
        "df['num'].replace([1,2,3,4], 1, inplace=True)"
      ]
    },
    {
      "cell_type": "code",
      "execution_count": null,
      "metadata": {
        "id": "3G_xxcHs3N2-",
        "outputId": "060804eb-cdc2-4820-f765-61de6a5dd835"
      },
      "outputs": [
        {
          "data": {
            "text/plain": [
              "array([1, 0], dtype=int64)"
            ]
          },
          "execution_count": 15,
          "metadata": {},
          "output_type": "execute_result"
        }
      ],
      "source": [
        "df['num'].unique()"
      ]
    },
    {
      "cell_type": "code",
      "execution_count": null,
      "metadata": {
        "id": "k6eqEbqy3N2_",
        "outputId": "ab8a3f28-c363-4754-ae03-257b6504fd4f"
      },
      "outputs": [
        {
          "data": {
            "text/plain": [
              "age             0\n",
              "sex             0\n",
              "chest_pain      0\n",
              "trestbps        3\n",
              "cholestrol     23\n",
              "fbs            82\n",
              "restecg         2\n",
              "thalach         2\n",
              "exang           2\n",
              "oldpeak         6\n",
              "slope         206\n",
              "ca            411\n",
              "thal          318\n",
              "num             0\n",
              "dtype: int64"
            ]
          },
          "execution_count": 16,
          "metadata": {},
          "output_type": "execute_result"
        }
      ],
      "source": [
        "df.isnull().sum()"
      ]
    },
    {
      "cell_type": "code",
      "execution_count": null,
      "metadata": {
        "id": "Vo5vWJlq3N2_"
      },
      "outputs": [],
      "source": [
        "# calculating mean of numerical values\n",
        "num_cols = [\n",
        "    \"trestbps\", \"cholestrol\", \"thalach\", \"oldpeak\"\n",
        "]\n",
        "\n",
        "mean_data = {}\n",
        "for col in num_cols:\n",
        "    series = df[col]\n",
        "    num_data = series[series.isnull() == False]\n",
        "    mean_data[col] = num_data.mean()\n",
        "\n",
        "for col in num_cols:\n",
        "    df[col].fillna(\n",
        "        value=mean_data[col],\n",
        "        inplace=True\n",
        "    )"
      ]
    },
    {
      "cell_type": "code",
      "execution_count": null,
      "metadata": {
        "id": "eS9Rdjq13N2_",
        "outputId": "481ea56a-477b-4658-d40d-dc70b82796ea"
      },
      "outputs": [
        {
          "data": {
            "text/plain": [
              "age             0\n",
              "sex             0\n",
              "chest_pain      0\n",
              "trestbps        0\n",
              "cholestrol      0\n",
              "fbs            82\n",
              "restecg         2\n",
              "thalach         0\n",
              "exang           2\n",
              "oldpeak         0\n",
              "slope         206\n",
              "ca            411\n",
              "thal          318\n",
              "num             0\n",
              "dtype: int64"
            ]
          },
          "execution_count": 18,
          "metadata": {},
          "output_type": "execute_result"
        }
      ],
      "source": [
        "df.isnull().sum()"
      ]
    },
    {
      "cell_type": "code",
      "execution_count": null,
      "metadata": {
        "id": "T2RTnLQN3N3A"
      },
      "outputs": [],
      "source": [
        "# Replacing categorical cols with modal values\n",
        "cat_cols = [\n",
        "    \"fbs\",\n",
        "    \"restecg\",\n",
        "    \"exang\",\n",
        "    \"slope\",\n",
        "    \"ca\",\n",
        "    \"thal\"\n",
        "]\n",
        "\n",
        "modal_data = {}\n",
        "\n",
        "for col in cat_cols:\n",
        "    temp_series = df[col]\n",
        "    num_data = temp_series[temp_series.isnull() == False]\n",
        "    modal_data[col] = num_data.mode()[0]\n",
        "\n",
        "for col in cat_cols:\n",
        "    df[col].fillna(\n",
        "        value = modal_data[col],\n",
        "        inplace = True\n",
        "    )"
      ]
    },
    {
      "cell_type": "code",
      "execution_count": null,
      "metadata": {
        "id": "EFqiMUch3N3B",
        "outputId": "249a91de-cdd9-4c04-bd0b-3738bffda5b7"
      },
      "outputs": [
        {
          "data": {
            "text/plain": [
              "age           0\n",
              "sex           0\n",
              "chest_pain    0\n",
              "trestbps      0\n",
              "cholestrol    0\n",
              "fbs           0\n",
              "restecg       0\n",
              "thalach       0\n",
              "exang         0\n",
              "oldpeak       0\n",
              "slope         0\n",
              "ca            0\n",
              "thal          0\n",
              "num           0\n",
              "dtype: int64"
            ]
          },
          "execution_count": 20,
          "metadata": {},
          "output_type": "execute_result"
        }
      ],
      "source": [
        "df.isnull().sum()"
      ]
    },
    {
      "cell_type": "code",
      "execution_count": null,
      "metadata": {
        "id": "cYcUhCUF3N3B",
        "outputId": "81089a11-e253-429e-f37d-e12df7719b20"
      },
      "outputs": [
        {
          "data": {
            "text/plain": [
              "{'trestbps': 0.6708073635002362,\n",
              " 'cholestrol': -0.6421302852219596,\n",
              " 'thalach': -0.3396352506223693,\n",
              " 'oldpeak': 1.2372282548818176}"
            ]
          },
          "execution_count": 21,
          "metadata": {},
          "output_type": "execute_result"
        }
      ],
      "source": [
        "# calculating skewness of numerical cols\n",
        "# for identifying outliers\n",
        "\n",
        "skew_data = {}\n",
        "\n",
        "for col in num_cols:\n",
        "    skew_coefficient = df[col].skew()\n",
        "    skew_data[col] = skew_coefficient\n",
        "    \n",
        "skew_data"
      ]
    },
    {
      "cell_type": "code",
      "execution_count": null,
      "metadata": {
        "id": "07LHLYE73N3C",
        "outputId": "0c96d049-78f5-4ff4-f499-a256d3e4c24e"
      },
      "outputs": [
        {
          "name": "stdout",
          "output_type": "stream",
          "text": [
            "95th percentile :  3.0\n",
            "Data points beyond 95th percentile :  38\n"
          ]
        }
      ],
      "source": [
        "# Checking number of data points beyond 95th percentile of skewed variable\n",
        "perc = df[\"oldpeak\"].quantile(0.95)\n",
        "\n",
        "print(\"95th percentile : \", perc)\n",
        "\n",
        "filtered = df[df[\"oldpeak\"] >= perc]\n",
        "print(\"Data points beyond 95th percentile : \", filtered.shape[0])"
      ]
    },
    {
      "cell_type": "code",
      "execution_count": null,
      "metadata": {
        "id": "obL3tcTr3N3D"
      },
      "outputs": [],
      "source": [
        "# Dropping the outlier data\n",
        "df = df[df['oldpeak'] < perc]"
      ]
    },
    {
      "cell_type": "code",
      "execution_count": null,
      "metadata": {
        "id": "sCJAzOVi3N3E",
        "outputId": "6f4347c2-7759-4a11-ba68-6e8bdee41aa6"
      },
      "outputs": [
        {
          "data": {
            "text/plain": [
              "(679, 14)"
            ]
          },
          "execution_count": 24,
          "metadata": {},
          "output_type": "execute_result"
        }
      ],
      "source": [
        "df.shape"
      ]
    },
    {
      "cell_type": "code",
      "execution_count": null,
      "metadata": {
        "id": "_2wN1LY63N3E"
      },
      "outputs": [],
      "source": [
        "# Data Transformation\n",
        "# scaling the numeric values\n",
        "for col in num_cols:\n",
        "    df[col] = (df[col] - df[col].min()) / (df[col].max() - df[col].min())"
      ]
    },
    {
      "cell_type": "code",
      "execution_count": null,
      "metadata": {
        "id": "yhjxPkOu3N3F",
        "outputId": "5afcbac8-1355-441d-abb2-8eaee42e096a"
      },
      "outputs": [
        {
          "name": "stdout",
          "output_type": "stream",
          "text": [
            "Shape of target 1 data :  (325, 14)\n",
            "Shape of target 0 data :  (354, 14)\n"
          ]
        }
      ],
      "source": [
        "# creating subsets for target variables for fair distribution in training and testing datasets\n",
        "dataset_target_0 = df[df.num == 0]\n",
        "dataset_target_1 = df[df.num == 1]\n",
        "print(\"Shape of target 1 data : \", dataset_target_1.shape)\n",
        "print(\"Shape of target 0 data : \", dataset_target_0.shape)"
      ]
    },
    {
      "cell_type": "code",
      "execution_count": null,
      "metadata": {
        "id": "dV9qKk043N3F",
        "outputId": "c8b2c3dd-4b4d-4bde-a68f-d2386b3dd918"
      },
      "outputs": [
        {
          "name": "stdout",
          "output_type": "stream",
          "text": [
            "Shape of target 1 data :  (325, 14)\n",
            "Shape of target 0 data :  (354, 14)\n"
          ]
        }
      ],
      "source": [
        "# Shuffling the data subsets\n",
        "dataset_target_1 = dataset_target_1.sample(frac=1)\n",
        "dataset_target_0 = dataset_target_0.sample(frac=1)\n",
        "\n",
        "# Confirming shapes for no value loss\n",
        "print(\"Shape of target 1 data : \", dataset_target_1.shape)\n",
        "print(\"Shape of target 0 data : \", dataset_target_0.shape)"
      ]
    },
    {
      "cell_type": "code",
      "execution_count": null,
      "metadata": {
        "id": "bHjeBFAv3N3G",
        "outputId": "9664a7a1-304d-4535-8c09-56869fe7a247"
      },
      "outputs": [
        {
          "name": "stdout",
          "output_type": "stream",
          "text": [
            "Training data shape :  (543, 14)\n",
            "Testing data shape  :  (136, 14)\n"
          ]
        }
      ],
      "source": [
        "# Calculating 80 percent mark\n",
        "target_0_mark = int(dataset_target_0.shape[0]*0.8)\n",
        "target_1_mark = int(dataset_target_1.shape[0]*0.8)\n",
        "\n",
        "# Generating train data\n",
        "train_data = pd.concat(\n",
        "    objs=[\n",
        "        dataset_target_0.iloc[:target_0_mark, :],\n",
        "        dataset_target_1.iloc[:target_1_mark, :]\n",
        "    ],\n",
        "    axis=0\n",
        ")\n",
        "\n",
        "# Generating test data\n",
        "test_data = pd.concat(\n",
        "    objs=[\n",
        "        dataset_target_0.iloc[target_0_mark:, :],\n",
        "        dataset_target_1.iloc[target_1_mark:, :]\n",
        "    ],\n",
        "    axis=0\n",
        ")\n",
        "\n",
        "# Shuffling the training and testing data\n",
        "train_data = train_data.sample(frac=1)\n",
        "test_data = test_data.sample(frac=1)\n",
        "\n",
        "# Checking data shapes\n",
        "print(\"Training data shape : \", train_data.shape)\n",
        "print(\"Testing data shape  : \", test_data.shape)"
      ]
    },
    {
      "cell_type": "code",
      "execution_count": null,
      "metadata": {
        "id": "fzARTVsB3N3G",
        "outputId": "1dacb9a7-3a5c-4d15-e556-75a294f26c78"
      },
      "outputs": [
        {
          "name": "stdout",
          "output_type": "stream",
          "text": [
            "Train inputs shape :  (543, 13)\n",
            "Train targets shape :  (543,)\n",
            "Test inputs shape :  (136, 13)\n",
            "Test targets shape :  (136,)\n"
          ]
        }
      ],
      "source": [
        "# Splitting training data\n",
        "train_inputs = train_data.iloc[:, :-1]\n",
        "train_targets = train_data.iloc[:, -1]\n",
        "\n",
        "# Splitting testing data\n",
        "test_inputs = test_data.iloc[:, :-1]\n",
        "test_targets = test_data.iloc[:, -1]\n",
        "\n",
        "# Checking shape of data\n",
        "print(\"Train inputs shape : \", train_inputs.shape)\n",
        "print(\"Train targets shape : \", train_targets.shape)\n",
        "print(\"Test inputs shape : \", test_inputs.shape)\n",
        "print(\"Test targets shape : \", test_targets.shape)"
      ]
    },
    {
      "cell_type": "code",
      "execution_count": null,
      "metadata": {
        "collapsed": true,
        "id": "7V_1Z9r-3N3H",
        "outputId": "b5c43fd7-39cd-4731-ef71-b1939268a301"
      },
      "outputs": [
        {
          "name": "stdout",
          "output_type": "stream",
          "text": [
            "Model trained\n"
          ]
        },
        {
          "name": "stderr",
          "output_type": "stream",
          "text": [
            "c:\\users\\sid\\appdata\\local\\programs\\python\\python37\\lib\\site-packages\\sklearn\\linear_model\\_logistic.py:764: ConvergenceWarning: lbfgs failed to converge (status=1):\n",
            "STOP: TOTAL NO. of ITERATIONS REACHED LIMIT.\n",
            "\n",
            "Increase the number of iterations (max_iter) or scale the data as shown in:\n",
            "    https://scikit-learn.org/stable/modules/preprocessing.html\n",
            "Please also refer to the documentation for alternative solver options:\n",
            "    https://scikit-learn.org/stable/modules/linear_model.html#logistic-regression\n",
            "  extra_warning_msg=_LOGISTIC_SOLVER_CONVERGENCE_MSG)\n"
          ]
        }
      ],
      "source": [
        "# Importing model\n",
        "from sklearn.linear_model import LogisticRegression\n",
        "logReg_model = LogisticRegression()\n",
        "# Training the model\n",
        "logReg_model.fit(train_inputs, train_targets)\n",
        "print(\"Model trained\")"
      ]
    },
    {
      "cell_type": "code",
      "execution_count": null,
      "metadata": {
        "id": "jEl-h6wE3N3H",
        "outputId": "5e663d47-7237-4310-ff33-a48ec9e84330"
      },
      "outputs": [
        {
          "name": "stdout",
          "output_type": "stream",
          "text": [
            "Training score:  0.8444444444444444\n",
            "Testing score:  0.78125\n"
          ]
        }
      ],
      "source": [
        "# checking accuracy:\n",
        "print(\"Training score: \", model.score(x_train, y_train))\n",
        "print(\"Testing score: \", model.score(x_test, y_test))"
      ]
    }
  ],
  "metadata": {
    "kernelspec": {
      "display_name": "Python 3",
      "language": "python",
      "name": "python3"
    },
    "language_info": {
      "codemirror_mode": {
        "name": "ipython",
        "version": 3
      },
      "file_extension": ".py",
      "mimetype": "text/x-python",
      "name": "python",
      "nbconvert_exporter": "python",
      "pygments_lexer": "ipython3",
      "version": "3.7.2"
    },
    "colab": {
      "name": "33332_Heart Disease.ipynb",
      "provenance": [],
      "collapsed_sections": []
    }
  },
  "nbformat": 4,
  "nbformat_minor": 0
}